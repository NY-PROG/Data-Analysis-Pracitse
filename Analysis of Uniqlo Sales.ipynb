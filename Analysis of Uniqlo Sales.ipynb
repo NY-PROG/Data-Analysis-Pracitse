{
 "cells": [
  {
   "cell_type": "markdown",
   "metadata": {},
   "source": [
    "# Analysis of Uniqlo Sales"
   ]
  },
  {
   "cell_type": "markdown",
   "metadata": {},
   "source": [
    "Uniqlo is the core brand of Japan's Fast Retailing Company, founded in 1984 as a small clothing store selling suits. Uniqlo has become an internationally renowned clothing brand. Tadashi Yanai, the current chairman and general manager of Uniqlo, introduced the hypermarket style of clothing sales in Japan for the first time, and realized the low cost of store operation through a unique system of commodity planning, development and sales, thus leading to the hot selling trend of Uniqlo."
   ]
  },
  {
   "cell_type": "markdown",
   "metadata": {},
   "source": [
    "In this analysis, I will analyze the sales data of Uniqlo in China. Explore how sales have changed over time, how different products have sold, how customers prefer to buy, and the relationship between sales and product costs."
   ]
  },
  {
   "cell_type": "markdown",
   "metadata": {},
   "source": [
    "# Imports"
   ]
  },
  {
   "cell_type": "code",
   "execution_count": 1,
   "metadata": {},
   "outputs": [],
   "source": [
    "import pandas as pd\n",
    "import matplotlib.pyplot as plt\n",
    "import seaborn as sns\n",
    "%matplotlib inline"
   ]
  },
  {
   "cell_type": "code",
   "execution_count": 2,
   "metadata": {},
   "outputs": [],
   "source": [
    "uniqlo = pd.read_csv(r\"/Users/ny/Desktop/数据分析训练/zuoyeweek1.unique.csv\")"
   ]
  },
  {
   "cell_type": "markdown",
   "metadata": {},
   "source": [
    "# Basic Info"
   ]
  },
  {
   "cell_type": "code",
   "execution_count": 3,
   "metadata": {},
   "outputs": [
    {
     "name": "stdout",
     "output_type": "stream",
     "text": [
      "<class 'pandas.core.frame.DataFrame'>\n",
      "RangeIndex: 22293 entries, 0 to 22292\n",
      "Data columns (total 13 columns):\n",
      " #   Column        Non-Null Count  Dtype  \n",
      "---  ------        --------------  -----  \n",
      " 0   store_id      22293 non-null  int64  \n",
      " 1   city          22293 non-null  object \n",
      " 2   channel       22293 non-null  object \n",
      " 3   gender_group  22293 non-null  object \n",
      " 4   age_group     22293 non-null  object \n",
      " 5   wkd_ind       22293 non-null  object \n",
      " 6   product       22293 non-null  object \n",
      " 7   customer      22293 non-null  int64  \n",
      " 8   revenue       22293 non-null  float64\n",
      " 9   order         22293 non-null  int64  \n",
      " 10  quant         22293 non-null  int64  \n",
      " 11  unit_cost     22293 non-null  int64  \n",
      " 12  unit_price    22293 non-null  int64  \n",
      "dtypes: float64(1), int64(6), object(6)\n",
      "memory usage: 2.2+ MB\n"
     ]
    }
   ],
   "source": [
    "uniqlo.info()"
   ]
  },
  {
   "cell_type": "code",
   "execution_count": 4,
   "metadata": {},
   "outputs": [
    {
     "data": {
      "text/html": [
       "<div>\n",
       "<style scoped>\n",
       "    .dataframe tbody tr th:only-of-type {\n",
       "        vertical-align: middle;\n",
       "    }\n",
       "\n",
       "    .dataframe tbody tr th {\n",
       "        vertical-align: top;\n",
       "    }\n",
       "\n",
       "    .dataframe thead th {\n",
       "        text-align: right;\n",
       "    }\n",
       "</style>\n",
       "<table border=\"1\" class=\"dataframe\">\n",
       "  <thead>\n",
       "    <tr style=\"text-align: right;\">\n",
       "      <th></th>\n",
       "      <th>store_id</th>\n",
       "      <th>city</th>\n",
       "      <th>channel</th>\n",
       "      <th>gender_group</th>\n",
       "      <th>age_group</th>\n",
       "      <th>wkd_ind</th>\n",
       "      <th>product</th>\n",
       "      <th>customer</th>\n",
       "      <th>revenue</th>\n",
       "      <th>order</th>\n",
       "      <th>quant</th>\n",
       "      <th>unit_cost</th>\n",
       "      <th>unit_price</th>\n",
       "    </tr>\n",
       "  </thead>\n",
       "  <tbody>\n",
       "    <tr>\n",
       "      <th>0</th>\n",
       "      <td>658</td>\n",
       "      <td>深圳</td>\n",
       "      <td>线下</td>\n",
       "      <td>Female</td>\n",
       "      <td>25-29</td>\n",
       "      <td>Weekday</td>\n",
       "      <td>当季新品</td>\n",
       "      <td>4</td>\n",
       "      <td>796.0</td>\n",
       "      <td>4</td>\n",
       "      <td>4</td>\n",
       "      <td>59</td>\n",
       "      <td>199</td>\n",
       "    </tr>\n",
       "    <tr>\n",
       "      <th>1</th>\n",
       "      <td>146</td>\n",
       "      <td>杭州</td>\n",
       "      <td>线下</td>\n",
       "      <td>Female</td>\n",
       "      <td>25-29</td>\n",
       "      <td>Weekday</td>\n",
       "      <td>运动</td>\n",
       "      <td>1</td>\n",
       "      <td>149.0</td>\n",
       "      <td>1</td>\n",
       "      <td>1</td>\n",
       "      <td>49</td>\n",
       "      <td>149</td>\n",
       "    </tr>\n",
       "    <tr>\n",
       "      <th>2</th>\n",
       "      <td>70</td>\n",
       "      <td>深圳</td>\n",
       "      <td>线下</td>\n",
       "      <td>Male</td>\n",
       "      <td>&gt;=60</td>\n",
       "      <td>Weekday</td>\n",
       "      <td>T恤</td>\n",
       "      <td>2</td>\n",
       "      <td>178.0</td>\n",
       "      <td>2</td>\n",
       "      <td>2</td>\n",
       "      <td>49</td>\n",
       "      <td>89</td>\n",
       "    </tr>\n",
       "    <tr>\n",
       "      <th>3</th>\n",
       "      <td>658</td>\n",
       "      <td>深圳</td>\n",
       "      <td>线下</td>\n",
       "      <td>Female</td>\n",
       "      <td>25-29</td>\n",
       "      <td>Weekday</td>\n",
       "      <td>T恤</td>\n",
       "      <td>1</td>\n",
       "      <td>59.0</td>\n",
       "      <td>1</td>\n",
       "      <td>1</td>\n",
       "      <td>49</td>\n",
       "      <td>59</td>\n",
       "    </tr>\n",
       "    <tr>\n",
       "      <th>4</th>\n",
       "      <td>229</td>\n",
       "      <td>深圳</td>\n",
       "      <td>线下</td>\n",
       "      <td>Male</td>\n",
       "      <td>20-24</td>\n",
       "      <td>Weekend</td>\n",
       "      <td>袜子</td>\n",
       "      <td>2</td>\n",
       "      <td>65.0</td>\n",
       "      <td>2</td>\n",
       "      <td>3</td>\n",
       "      <td>9</td>\n",
       "      <td>22</td>\n",
       "    </tr>\n",
       "  </tbody>\n",
       "</table>\n",
       "</div>"
      ],
      "text/plain": [
       "   store_id city channel gender_group age_group  wkd_ind product  customer  \\\n",
       "0       658   深圳      线下       Female     25-29  Weekday    当季新品         4   \n",
       "1       146   杭州      线下       Female     25-29  Weekday      运动         1   \n",
       "2        70   深圳      线下         Male      >=60  Weekday      T恤         2   \n",
       "3       658   深圳      线下       Female     25-29  Weekday      T恤         1   \n",
       "4       229   深圳      线下         Male     20-24  Weekend      袜子         2   \n",
       "\n",
       "   revenue  order  quant  unit_cost  unit_price  \n",
       "0    796.0      4      4         59         199  \n",
       "1    149.0      1      1         49         149  \n",
       "2    178.0      2      2         49          89  \n",
       "3     59.0      1      1         49          59  \n",
       "4     65.0      2      3          9          22  "
      ]
     },
     "execution_count": 4,
     "metadata": {},
     "output_type": "execute_result"
    }
   ],
   "source": [
    "uniqlo.head()"
   ]
  },
  {
   "cell_type": "code",
   "execution_count": 5,
   "metadata": {},
   "outputs": [
    {
     "data": {
      "text/html": [
       "<div>\n",
       "<style scoped>\n",
       "    .dataframe tbody tr th:only-of-type {\n",
       "        vertical-align: middle;\n",
       "    }\n",
       "\n",
       "    .dataframe tbody tr th {\n",
       "        vertical-align: top;\n",
       "    }\n",
       "\n",
       "    .dataframe thead th {\n",
       "        text-align: right;\n",
       "    }\n",
       "</style>\n",
       "<table border=\"1\" class=\"dataframe\">\n",
       "  <thead>\n",
       "    <tr style=\"text-align: right;\">\n",
       "      <th></th>\n",
       "      <th>store_id</th>\n",
       "      <th>customer</th>\n",
       "      <th>revenue</th>\n",
       "      <th>order</th>\n",
       "      <th>quant</th>\n",
       "      <th>unit_cost</th>\n",
       "      <th>unit_price</th>\n",
       "    </tr>\n",
       "  </thead>\n",
       "  <tbody>\n",
       "    <tr>\n",
       "      <th>count</th>\n",
       "      <td>22293.000000</td>\n",
       "      <td>22293.000000</td>\n",
       "      <td>22293.000000</td>\n",
       "      <td>22293.000000</td>\n",
       "      <td>22293.000000</td>\n",
       "      <td>22293.000000</td>\n",
       "      <td>22293.000000</td>\n",
       "    </tr>\n",
       "    <tr>\n",
       "      <th>mean</th>\n",
       "      <td>335.391558</td>\n",
       "      <td>1.629480</td>\n",
       "      <td>159.531371</td>\n",
       "      <td>1.651998</td>\n",
       "      <td>1.858072</td>\n",
       "      <td>46.124658</td>\n",
       "      <td>84.279998</td>\n",
       "    </tr>\n",
       "    <tr>\n",
       "      <th>std</th>\n",
       "      <td>230.236167</td>\n",
       "      <td>1.785605</td>\n",
       "      <td>276.254066</td>\n",
       "      <td>1.861480</td>\n",
       "      <td>2.347301</td>\n",
       "      <td>19.124347</td>\n",
       "      <td>46.314296</td>\n",
       "    </tr>\n",
       "    <tr>\n",
       "      <th>min</th>\n",
       "      <td>19.000000</td>\n",
       "      <td>1.000000</td>\n",
       "      <td>-0.660000</td>\n",
       "      <td>1.000000</td>\n",
       "      <td>1.000000</td>\n",
       "      <td>9.000000</td>\n",
       "      <td>0.000000</td>\n",
       "    </tr>\n",
       "    <tr>\n",
       "      <th>25%</th>\n",
       "      <td>142.000000</td>\n",
       "      <td>1.000000</td>\n",
       "      <td>64.000000</td>\n",
       "      <td>1.000000</td>\n",
       "      <td>1.000000</td>\n",
       "      <td>49.000000</td>\n",
       "      <td>56.000000</td>\n",
       "    </tr>\n",
       "    <tr>\n",
       "      <th>50%</th>\n",
       "      <td>315.000000</td>\n",
       "      <td>1.000000</td>\n",
       "      <td>99.000000</td>\n",
       "      <td>1.000000</td>\n",
       "      <td>1.000000</td>\n",
       "      <td>49.000000</td>\n",
       "      <td>79.000000</td>\n",
       "    </tr>\n",
       "    <tr>\n",
       "      <th>75%</th>\n",
       "      <td>480.000000</td>\n",
       "      <td>2.000000</td>\n",
       "      <td>175.000000</td>\n",
       "      <td>2.000000</td>\n",
       "      <td>2.000000</td>\n",
       "      <td>49.000000</td>\n",
       "      <td>99.000000</td>\n",
       "    </tr>\n",
       "    <tr>\n",
       "      <th>max</th>\n",
       "      <td>831.000000</td>\n",
       "      <td>58.000000</td>\n",
       "      <td>12538.000000</td>\n",
       "      <td>65.000000</td>\n",
       "      <td>84.000000</td>\n",
       "      <td>99.000000</td>\n",
       "      <td>299.000000</td>\n",
       "    </tr>\n",
       "  </tbody>\n",
       "</table>\n",
       "</div>"
      ],
      "text/plain": [
       "           store_id      customer       revenue         order         quant  \\\n",
       "count  22293.000000  22293.000000  22293.000000  22293.000000  22293.000000   \n",
       "mean     335.391558      1.629480    159.531371      1.651998      1.858072   \n",
       "std      230.236167      1.785605    276.254066      1.861480      2.347301   \n",
       "min       19.000000      1.000000     -0.660000      1.000000      1.000000   \n",
       "25%      142.000000      1.000000     64.000000      1.000000      1.000000   \n",
       "50%      315.000000      1.000000     99.000000      1.000000      1.000000   \n",
       "75%      480.000000      2.000000    175.000000      2.000000      2.000000   \n",
       "max      831.000000     58.000000  12538.000000     65.000000     84.000000   \n",
       "\n",
       "          unit_cost    unit_price  \n",
       "count  22293.000000  22293.000000  \n",
       "mean      46.124658     84.279998  \n",
       "std       19.124347     46.314296  \n",
       "min        9.000000      0.000000  \n",
       "25%       49.000000     56.000000  \n",
       "50%       49.000000     79.000000  \n",
       "75%       49.000000     99.000000  \n",
       "max       99.000000    299.000000  "
      ]
     },
     "execution_count": 5,
     "metadata": {},
     "output_type": "execute_result"
    }
   ],
   "source": [
    "uniqlo.describe()"
   ]
  },
  {
   "cell_type": "markdown",
   "metadata": {},
   "source": [
    "# Data Cleaning"
   ]
  },
  {
   "cell_type": "code",
   "execution_count": 6,
   "metadata": {},
   "outputs": [],
   "source": [
    "import numpy as np\n",
    "uniqlo.loc[uniqlo.age_group =='Unknown','age_group']=np.nan\n",
    "uniqlo.loc[uniqlo.gender_group =='Unknown','gender_group']=np.nan "
   ]
  },
  {
   "cell_type": "code",
   "execution_count": 7,
   "metadata": {},
   "outputs": [
    {
     "data": {
      "text/plain": [
       "store_id        0.0\n",
       "city            0.0\n",
       "channel         0.0\n",
       "gender_group    0.0\n",
       "age_group       0.0\n",
       "wkd_ind         0.0\n",
       "product         0.0\n",
       "customer        0.0\n",
       "revenue         0.0\n",
       "order           0.0\n",
       "quant           0.0\n",
       "unit_cost       0.0\n",
       "unit_price      0.0\n",
       "dtype: float64"
      ]
     },
     "execution_count": 7,
     "metadata": {},
     "output_type": "execute_result"
    }
   ],
   "source": [
    "uniqlo.isnull().sum()/len(uniqlo)"
   ]
  },
  {
   "cell_type": "code",
   "execution_count": 8,
   "metadata": {},
   "outputs": [
    {
     "data": {
      "text/html": [
       "<div>\n",
       "<style scoped>\n",
       "    .dataframe tbody tr th:only-of-type {\n",
       "        vertical-align: middle;\n",
       "    }\n",
       "\n",
       "    .dataframe tbody tr th {\n",
       "        vertical-align: top;\n",
       "    }\n",
       "\n",
       "    .dataframe thead th {\n",
       "        text-align: right;\n",
       "    }\n",
       "</style>\n",
       "<table border=\"1\" class=\"dataframe\">\n",
       "  <thead>\n",
       "    <tr style=\"text-align: right;\">\n",
       "      <th></th>\n",
       "      <th>store_id</th>\n",
       "      <th>city</th>\n",
       "      <th>channel</th>\n",
       "      <th>gender_group</th>\n",
       "      <th>age_group</th>\n",
       "      <th>wkd_ind</th>\n",
       "      <th>product</th>\n",
       "      <th>customer</th>\n",
       "      <th>revenue</th>\n",
       "      <th>order</th>\n",
       "      <th>quant</th>\n",
       "      <th>unit_cost</th>\n",
       "      <th>unit_price</th>\n",
       "    </tr>\n",
       "  </thead>\n",
       "  <tbody>\n",
       "    <tr>\n",
       "      <th>0</th>\n",
       "      <td>658</td>\n",
       "      <td>深圳</td>\n",
       "      <td>线下</td>\n",
       "      <td>Female</td>\n",
       "      <td>25-29</td>\n",
       "      <td>Weekday</td>\n",
       "      <td>当季新品</td>\n",
       "      <td>4</td>\n",
       "      <td>796.0</td>\n",
       "      <td>4</td>\n",
       "      <td>4</td>\n",
       "      <td>59</td>\n",
       "      <td>199</td>\n",
       "    </tr>\n",
       "    <tr>\n",
       "      <th>1</th>\n",
       "      <td>146</td>\n",
       "      <td>杭州</td>\n",
       "      <td>线下</td>\n",
       "      <td>Female</td>\n",
       "      <td>25-29</td>\n",
       "      <td>Weekday</td>\n",
       "      <td>运动</td>\n",
       "      <td>1</td>\n",
       "      <td>149.0</td>\n",
       "      <td>1</td>\n",
       "      <td>1</td>\n",
       "      <td>49</td>\n",
       "      <td>149</td>\n",
       "    </tr>\n",
       "    <tr>\n",
       "      <th>2</th>\n",
       "      <td>70</td>\n",
       "      <td>深圳</td>\n",
       "      <td>线下</td>\n",
       "      <td>Male</td>\n",
       "      <td>&gt;=60</td>\n",
       "      <td>Weekday</td>\n",
       "      <td>T恤</td>\n",
       "      <td>2</td>\n",
       "      <td>178.0</td>\n",
       "      <td>2</td>\n",
       "      <td>2</td>\n",
       "      <td>49</td>\n",
       "      <td>89</td>\n",
       "    </tr>\n",
       "    <tr>\n",
       "      <th>3</th>\n",
       "      <td>658</td>\n",
       "      <td>深圳</td>\n",
       "      <td>线下</td>\n",
       "      <td>Female</td>\n",
       "      <td>25-29</td>\n",
       "      <td>Weekday</td>\n",
       "      <td>T恤</td>\n",
       "      <td>1</td>\n",
       "      <td>59.0</td>\n",
       "      <td>1</td>\n",
       "      <td>1</td>\n",
       "      <td>49</td>\n",
       "      <td>59</td>\n",
       "    </tr>\n",
       "    <tr>\n",
       "      <th>4</th>\n",
       "      <td>229</td>\n",
       "      <td>深圳</td>\n",
       "      <td>线下</td>\n",
       "      <td>Male</td>\n",
       "      <td>20-24</td>\n",
       "      <td>Weekend</td>\n",
       "      <td>袜子</td>\n",
       "      <td>2</td>\n",
       "      <td>65.0</td>\n",
       "      <td>2</td>\n",
       "      <td>3</td>\n",
       "      <td>9</td>\n",
       "      <td>22</td>\n",
       "    </tr>\n",
       "    <tr>\n",
       "      <th>...</th>\n",
       "      <td>...</td>\n",
       "      <td>...</td>\n",
       "      <td>...</td>\n",
       "      <td>...</td>\n",
       "      <td>...</td>\n",
       "      <td>...</td>\n",
       "      <td>...</td>\n",
       "      <td>...</td>\n",
       "      <td>...</td>\n",
       "      <td>...</td>\n",
       "      <td>...</td>\n",
       "      <td>...</td>\n",
       "      <td>...</td>\n",
       "    </tr>\n",
       "    <tr>\n",
       "      <th>22288</th>\n",
       "      <td>146</td>\n",
       "      <td>杭州</td>\n",
       "      <td>线下</td>\n",
       "      <td>Female</td>\n",
       "      <td>30-34</td>\n",
       "      <td>Weekday</td>\n",
       "      <td>短裤</td>\n",
       "      <td>1</td>\n",
       "      <td>80.0</td>\n",
       "      <td>1</td>\n",
       "      <td>2</td>\n",
       "      <td>19</td>\n",
       "      <td>40</td>\n",
       "    </tr>\n",
       "    <tr>\n",
       "      <th>22289</th>\n",
       "      <td>430</td>\n",
       "      <td>成都</td>\n",
       "      <td>线下</td>\n",
       "      <td>Female</td>\n",
       "      <td>25-29</td>\n",
       "      <td>Weekend</td>\n",
       "      <td>T恤</td>\n",
       "      <td>1</td>\n",
       "      <td>79.0</td>\n",
       "      <td>1</td>\n",
       "      <td>1</td>\n",
       "      <td>49</td>\n",
       "      <td>79</td>\n",
       "    </tr>\n",
       "    <tr>\n",
       "      <th>22290</th>\n",
       "      <td>449</td>\n",
       "      <td>武汉</td>\n",
       "      <td>线下</td>\n",
       "      <td>Female</td>\n",
       "      <td>35-39</td>\n",
       "      <td>Weekday</td>\n",
       "      <td>T恤</td>\n",
       "      <td>1</td>\n",
       "      <td>158.0</td>\n",
       "      <td>1</td>\n",
       "      <td>2</td>\n",
       "      <td>49</td>\n",
       "      <td>79</td>\n",
       "    </tr>\n",
       "    <tr>\n",
       "      <th>22291</th>\n",
       "      <td>758</td>\n",
       "      <td>杭州</td>\n",
       "      <td>线下</td>\n",
       "      <td>Female</td>\n",
       "      <td>20-24</td>\n",
       "      <td>Weekday</td>\n",
       "      <td>袜子</td>\n",
       "      <td>1</td>\n",
       "      <td>26.0</td>\n",
       "      <td>1</td>\n",
       "      <td>1</td>\n",
       "      <td>9</td>\n",
       "      <td>26</td>\n",
       "    </tr>\n",
       "    <tr>\n",
       "      <th>22292</th>\n",
       "      <td>616</td>\n",
       "      <td>成都</td>\n",
       "      <td>线下</td>\n",
       "      <td>Male</td>\n",
       "      <td>30-34</td>\n",
       "      <td>Weekday</td>\n",
       "      <td>当季新品</td>\n",
       "      <td>1</td>\n",
       "      <td>79.0</td>\n",
       "      <td>1</td>\n",
       "      <td>1</td>\n",
       "      <td>59</td>\n",
       "      <td>79</td>\n",
       "    </tr>\n",
       "  </tbody>\n",
       "</table>\n",
       "<p>22293 rows × 13 columns</p>\n",
       "</div>"
      ],
      "text/plain": [
       "       store_id city channel gender_group age_group  wkd_ind product  \\\n",
       "0           658   深圳      线下       Female     25-29  Weekday    当季新品   \n",
       "1           146   杭州      线下       Female     25-29  Weekday      运动   \n",
       "2            70   深圳      线下         Male      >=60  Weekday      T恤   \n",
       "3           658   深圳      线下       Female     25-29  Weekday      T恤   \n",
       "4           229   深圳      线下         Male     20-24  Weekend      袜子   \n",
       "...         ...  ...     ...          ...       ...      ...     ...   \n",
       "22288       146   杭州      线下       Female     30-34  Weekday      短裤   \n",
       "22289       430   成都      线下       Female     25-29  Weekend      T恤   \n",
       "22290       449   武汉      线下       Female     35-39  Weekday      T恤   \n",
       "22291       758   杭州      线下       Female     20-24  Weekday      袜子   \n",
       "22292       616   成都      线下         Male     30-34  Weekday    当季新品   \n",
       "\n",
       "       customer  revenue  order  quant  unit_cost  unit_price  \n",
       "0             4    796.0      4      4         59         199  \n",
       "1             1    149.0      1      1         49         149  \n",
       "2             2    178.0      2      2         49          89  \n",
       "3             1     59.0      1      1         49          59  \n",
       "4             2     65.0      2      3          9          22  \n",
       "...         ...      ...    ...    ...        ...         ...  \n",
       "22288         1     80.0      1      2         19          40  \n",
       "22289         1     79.0      1      1         49          79  \n",
       "22290         1    158.0      1      2         49          79  \n",
       "22291         1     26.0      1      1          9          26  \n",
       "22292         1     79.0      1      1         59          79  \n",
       "\n",
       "[22293 rows x 13 columns]"
      ]
     },
     "execution_count": 8,
     "metadata": {},
     "output_type": "execute_result"
    }
   ],
   "source": [
    "uniqlo.dropna()"
   ]
  },
  {
   "cell_type": "code",
   "execution_count": 9,
   "metadata": {},
   "outputs": [],
   "source": [
    "uniqlo.drop('store_id',axis=1,inplace=True)"
   ]
  },
  {
   "cell_type": "code",
   "execution_count": 10,
   "metadata": {},
   "outputs": [
    {
     "data": {
      "text/html": [
       "<div>\n",
       "<style scoped>\n",
       "    .dataframe tbody tr th:only-of-type {\n",
       "        vertical-align: middle;\n",
       "    }\n",
       "\n",
       "    .dataframe tbody tr th {\n",
       "        vertical-align: top;\n",
       "    }\n",
       "\n",
       "    .dataframe thead th {\n",
       "        text-align: right;\n",
       "    }\n",
       "</style>\n",
       "<table border=\"1\" class=\"dataframe\">\n",
       "  <thead>\n",
       "    <tr style=\"text-align: right;\">\n",
       "      <th></th>\n",
       "      <th>customer</th>\n",
       "      <th>revenue</th>\n",
       "      <th>order</th>\n",
       "      <th>quant</th>\n",
       "      <th>unit_cost</th>\n",
       "      <th>unit_price</th>\n",
       "    </tr>\n",
       "  </thead>\n",
       "  <tbody>\n",
       "    <tr>\n",
       "      <th>count</th>\n",
       "      <td>22293.000000</td>\n",
       "      <td>22293.000000</td>\n",
       "      <td>22293.000000</td>\n",
       "      <td>22293.000000</td>\n",
       "      <td>22293.000000</td>\n",
       "      <td>22293.000000</td>\n",
       "    </tr>\n",
       "    <tr>\n",
       "      <th>mean</th>\n",
       "      <td>1.629480</td>\n",
       "      <td>159.531371</td>\n",
       "      <td>1.651998</td>\n",
       "      <td>1.858072</td>\n",
       "      <td>46.124658</td>\n",
       "      <td>84.279998</td>\n",
       "    </tr>\n",
       "    <tr>\n",
       "      <th>std</th>\n",
       "      <td>1.785605</td>\n",
       "      <td>276.254066</td>\n",
       "      <td>1.861480</td>\n",
       "      <td>2.347301</td>\n",
       "      <td>19.124347</td>\n",
       "      <td>46.314296</td>\n",
       "    </tr>\n",
       "    <tr>\n",
       "      <th>min</th>\n",
       "      <td>1.000000</td>\n",
       "      <td>-0.660000</td>\n",
       "      <td>1.000000</td>\n",
       "      <td>1.000000</td>\n",
       "      <td>9.000000</td>\n",
       "      <td>0.000000</td>\n",
       "    </tr>\n",
       "    <tr>\n",
       "      <th>25%</th>\n",
       "      <td>1.000000</td>\n",
       "      <td>64.000000</td>\n",
       "      <td>1.000000</td>\n",
       "      <td>1.000000</td>\n",
       "      <td>49.000000</td>\n",
       "      <td>56.000000</td>\n",
       "    </tr>\n",
       "    <tr>\n",
       "      <th>50%</th>\n",
       "      <td>1.000000</td>\n",
       "      <td>99.000000</td>\n",
       "      <td>1.000000</td>\n",
       "      <td>1.000000</td>\n",
       "      <td>49.000000</td>\n",
       "      <td>79.000000</td>\n",
       "    </tr>\n",
       "    <tr>\n",
       "      <th>75%</th>\n",
       "      <td>2.000000</td>\n",
       "      <td>175.000000</td>\n",
       "      <td>2.000000</td>\n",
       "      <td>2.000000</td>\n",
       "      <td>49.000000</td>\n",
       "      <td>99.000000</td>\n",
       "    </tr>\n",
       "    <tr>\n",
       "      <th>max</th>\n",
       "      <td>58.000000</td>\n",
       "      <td>12538.000000</td>\n",
       "      <td>65.000000</td>\n",
       "      <td>84.000000</td>\n",
       "      <td>99.000000</td>\n",
       "      <td>299.000000</td>\n",
       "    </tr>\n",
       "  </tbody>\n",
       "</table>\n",
       "</div>"
      ],
      "text/plain": [
       "           customer       revenue         order         quant     unit_cost  \\\n",
       "count  22293.000000  22293.000000  22293.000000  22293.000000  22293.000000   \n",
       "mean       1.629480    159.531371      1.651998      1.858072     46.124658   \n",
       "std        1.785605    276.254066      1.861480      2.347301     19.124347   \n",
       "min        1.000000     -0.660000      1.000000      1.000000      9.000000   \n",
       "25%        1.000000     64.000000      1.000000      1.000000     49.000000   \n",
       "50%        1.000000     99.000000      1.000000      1.000000     49.000000   \n",
       "75%        2.000000    175.000000      2.000000      2.000000     49.000000   \n",
       "max       58.000000  12538.000000     65.000000     84.000000     99.000000   \n",
       "\n",
       "         unit_price  \n",
       "count  22293.000000  \n",
       "mean      84.279998  \n",
       "std       46.314296  \n",
       "min        0.000000  \n",
       "25%       56.000000  \n",
       "50%       79.000000  \n",
       "75%       99.000000  \n",
       "max      299.000000  "
      ]
     },
     "execution_count": 10,
     "metadata": {},
     "output_type": "execute_result"
    }
   ],
   "source": [
    "uniqlo.describe()"
   ]
  },
  {
   "cell_type": "markdown",
   "metadata": {},
   "source": [
    "Clean the max of revenue."
   ]
  },
  {
   "cell_type": "code",
   "execution_count": 11,
   "metadata": {},
   "outputs": [
    {
     "data": {
      "text/plain": [
       "79.00      3656\n",
       "99.00      3114\n",
       "59.00      1608\n",
       "39.00      1196\n",
       "198.00      793\n",
       "           ... \n",
       "426.38        1\n",
       "156.81        1\n",
       "292.82        1\n",
       "110.51        1\n",
       "1038.00       1\n",
       "Name: revenue, Length: 1411, dtype: int64"
      ]
     },
     "execution_count": 11,
     "metadata": {},
     "output_type": "execute_result"
    }
   ],
   "source": [
    "uniqlo.revenue.value_counts()"
   ]
  },
  {
   "cell_type": "code",
   "execution_count": 12,
   "metadata": {},
   "outputs": [],
   "source": [
    "bins=[-1000,0,100,500,1000,2000,5000,10000,15000]\n",
    "uniqlo['revenue_level']=pd.cut(uniqlo.revenue, bins,right=False)"
   ]
  },
  {
   "cell_type": "code",
   "execution_count": 13,
   "metadata": {},
   "outputs": [
    {
     "data": {
      "text/html": [
       "<div>\n",
       "<style scoped>\n",
       "    .dataframe tbody tr th:only-of-type {\n",
       "        vertical-align: middle;\n",
       "    }\n",
       "\n",
       "    .dataframe tbody tr th {\n",
       "        vertical-align: top;\n",
       "    }\n",
       "\n",
       "    .dataframe thead th {\n",
       "        text-align: right;\n",
       "    }\n",
       "</style>\n",
       "<table border=\"1\" class=\"dataframe\">\n",
       "  <thead>\n",
       "    <tr style=\"text-align: right;\">\n",
       "      <th></th>\n",
       "      <th>count</th>\n",
       "      <th>mean</th>\n",
       "      <th>std</th>\n",
       "      <th>min</th>\n",
       "      <th>25%</th>\n",
       "      <th>50%</th>\n",
       "      <th>75%</th>\n",
       "      <th>max</th>\n",
       "    </tr>\n",
       "    <tr>\n",
       "      <th>revenue_level</th>\n",
       "      <th></th>\n",
       "      <th></th>\n",
       "      <th></th>\n",
       "      <th></th>\n",
       "      <th></th>\n",
       "      <th></th>\n",
       "      <th></th>\n",
       "      <th></th>\n",
       "    </tr>\n",
       "  </thead>\n",
       "  <tbody>\n",
       "    <tr>\n",
       "      <th>[-1000, 0)</th>\n",
       "      <td>1.0</td>\n",
       "      <td>-0.660000</td>\n",
       "      <td>NaN</td>\n",
       "      <td>-0.66</td>\n",
       "      <td>-0.66</td>\n",
       "      <td>-0.66</td>\n",
       "      <td>-0.66</td>\n",
       "      <td>-0.66</td>\n",
       "    </tr>\n",
       "    <tr>\n",
       "      <th>[0, 100)</th>\n",
       "      <td>13735.0</td>\n",
       "      <td>69.398428</td>\n",
       "      <td>24.057206</td>\n",
       "      <td>0.00</td>\n",
       "      <td>53.00</td>\n",
       "      <td>79.00</td>\n",
       "      <td>89.00</td>\n",
       "      <td>99.00</td>\n",
       "    </tr>\n",
       "    <tr>\n",
       "      <th>[100, 500)</th>\n",
       "      <td>7662.0</td>\n",
       "      <td>221.046232</td>\n",
       "      <td>93.959692</td>\n",
       "      <td>100.00</td>\n",
       "      <td>149.00</td>\n",
       "      <td>198.00</td>\n",
       "      <td>271.00</td>\n",
       "      <td>498.00</td>\n",
       "    </tr>\n",
       "    <tr>\n",
       "      <th>[500, 1000)</th>\n",
       "      <td>671.0</td>\n",
       "      <td>684.615633</td>\n",
       "      <td>134.712670</td>\n",
       "      <td>505.00</td>\n",
       "      <td>592.00</td>\n",
       "      <td>643.00</td>\n",
       "      <td>780.75</td>\n",
       "      <td>997.00</td>\n",
       "    </tr>\n",
       "    <tr>\n",
       "      <th>[1000, 2000)</th>\n",
       "      <td>162.0</td>\n",
       "      <td>1358.550617</td>\n",
       "      <td>257.825041</td>\n",
       "      <td>1009.00</td>\n",
       "      <td>1155.25</td>\n",
       "      <td>1293.00</td>\n",
       "      <td>1541.25</td>\n",
       "      <td>1990.00</td>\n",
       "    </tr>\n",
       "    <tr>\n",
       "      <th>[2000, 5000)</th>\n",
       "      <td>51.0</td>\n",
       "      <td>2949.593725</td>\n",
       "      <td>831.873589</td>\n",
       "      <td>2050.00</td>\n",
       "      <td>2328.79</td>\n",
       "      <td>2683.00</td>\n",
       "      <td>3410.00</td>\n",
       "      <td>4975.00</td>\n",
       "    </tr>\n",
       "    <tr>\n",
       "      <th>[5000, 10000)</th>\n",
       "      <td>9.0</td>\n",
       "      <td>6295.780000</td>\n",
       "      <td>1308.101226</td>\n",
       "      <td>5039.59</td>\n",
       "      <td>5241.43</td>\n",
       "      <td>5947.00</td>\n",
       "      <td>6636.00</td>\n",
       "      <td>8836.00</td>\n",
       "    </tr>\n",
       "    <tr>\n",
       "      <th>[10000, 15000)</th>\n",
       "      <td>2.0</td>\n",
       "      <td>11518.140000</td>\n",
       "      <td>1442.299844</td>\n",
       "      <td>10498.28</td>\n",
       "      <td>11008.21</td>\n",
       "      <td>11518.14</td>\n",
       "      <td>12028.07</td>\n",
       "      <td>12538.00</td>\n",
       "    </tr>\n",
       "  </tbody>\n",
       "</table>\n",
       "</div>"
      ],
      "text/plain": [
       "                  count          mean          std       min       25%  \\\n",
       "revenue_level                                                            \n",
       "[-1000, 0)          1.0     -0.660000          NaN     -0.66     -0.66   \n",
       "[0, 100)        13735.0     69.398428    24.057206      0.00     53.00   \n",
       "[100, 500)       7662.0    221.046232    93.959692    100.00    149.00   \n",
       "[500, 1000)       671.0    684.615633   134.712670    505.00    592.00   \n",
       "[1000, 2000)      162.0   1358.550617   257.825041   1009.00   1155.25   \n",
       "[2000, 5000)       51.0   2949.593725   831.873589   2050.00   2328.79   \n",
       "[5000, 10000)       9.0   6295.780000  1308.101226   5039.59   5241.43   \n",
       "[10000, 15000)      2.0  11518.140000  1442.299844  10498.28  11008.21   \n",
       "\n",
       "                     50%       75%       max  \n",
       "revenue_level                                 \n",
       "[-1000, 0)         -0.66     -0.66     -0.66  \n",
       "[0, 100)           79.00     89.00     99.00  \n",
       "[100, 500)        198.00    271.00    498.00  \n",
       "[500, 1000)       643.00    780.75    997.00  \n",
       "[1000, 2000)     1293.00   1541.25   1990.00  \n",
       "[2000, 5000)     2683.00   3410.00   4975.00  \n",
       "[5000, 10000)    5947.00   6636.00   8836.00  \n",
       "[10000, 15000)  11518.14  12028.07  12538.00  "
      ]
     },
     "execution_count": 13,
     "metadata": {},
     "output_type": "execute_result"
    }
   ],
   "source": [
    "uniqlo.groupby('revenue_level').revenue.describe()"
   ]
  },
  {
   "cell_type": "code",
   "execution_count": 14,
   "metadata": {},
   "outputs": [
    {
     "data": {
      "text/plain": [
       "count    22200.000000\n",
       "mean       149.833600\n",
       "std        171.650825\n",
       "min         10.000000\n",
       "25%         65.000000\n",
       "50%         99.000000\n",
       "75%        168.447500\n",
       "max       1990.000000\n",
       "Name: revenue, dtype: float64"
      ]
     },
     "execution_count": 14,
     "metadata": {},
     "output_type": "execute_result"
    }
   ],
   "source": [
    "uniqlo= uniqlo[(uniqlo.revenue>0)&(uniqlo.revenue<2000)]\n",
    "uniqlo.revenue.describe()"
   ]
  },
  {
   "cell_type": "code",
   "execution_count": 15,
   "metadata": {},
   "outputs": [
    {
     "data": {
      "text/html": [
       "<div>\n",
       "<style scoped>\n",
       "    .dataframe tbody tr th:only-of-type {\n",
       "        vertical-align: middle;\n",
       "    }\n",
       "\n",
       "    .dataframe tbody tr th {\n",
       "        vertical-align: top;\n",
       "    }\n",
       "\n",
       "    .dataframe thead th {\n",
       "        text-align: right;\n",
       "    }\n",
       "</style>\n",
       "<table border=\"1\" class=\"dataframe\">\n",
       "  <thead>\n",
       "    <tr style=\"text-align: right;\">\n",
       "      <th></th>\n",
       "      <th>customer</th>\n",
       "      <th>revenue</th>\n",
       "      <th>order</th>\n",
       "      <th>quant</th>\n",
       "      <th>unit_cost</th>\n",
       "      <th>unit_price</th>\n",
       "    </tr>\n",
       "  </thead>\n",
       "  <tbody>\n",
       "    <tr>\n",
       "      <th>count</th>\n",
       "      <td>22200.000000</td>\n",
       "      <td>22200.000000</td>\n",
       "      <td>22200.000000</td>\n",
       "      <td>22200.000000</td>\n",
       "      <td>22200.000000</td>\n",
       "      <td>22200.000000</td>\n",
       "    </tr>\n",
       "    <tr>\n",
       "      <th>mean</th>\n",
       "      <td>1.576757</td>\n",
       "      <td>149.833600</td>\n",
       "      <td>1.595676</td>\n",
       "      <td>1.786396</td>\n",
       "      <td>46.121622</td>\n",
       "      <td>84.202838</td>\n",
       "    </tr>\n",
       "    <tr>\n",
       "      <th>std</th>\n",
       "      <td>1.325953</td>\n",
       "      <td>171.650825</td>\n",
       "      <td>1.356642</td>\n",
       "      <td>1.697348</td>\n",
       "      <td>19.129522</td>\n",
       "      <td>46.035829</td>\n",
       "    </tr>\n",
       "    <tr>\n",
       "      <th>min</th>\n",
       "      <td>1.000000</td>\n",
       "      <td>10.000000</td>\n",
       "      <td>1.000000</td>\n",
       "      <td>1.000000</td>\n",
       "      <td>9.000000</td>\n",
       "      <td>10.000000</td>\n",
       "    </tr>\n",
       "    <tr>\n",
       "      <th>25%</th>\n",
       "      <td>1.000000</td>\n",
       "      <td>65.000000</td>\n",
       "      <td>1.000000</td>\n",
       "      <td>1.000000</td>\n",
       "      <td>49.000000</td>\n",
       "      <td>56.000000</td>\n",
       "    </tr>\n",
       "    <tr>\n",
       "      <th>50%</th>\n",
       "      <td>1.000000</td>\n",
       "      <td>99.000000</td>\n",
       "      <td>1.000000</td>\n",
       "      <td>1.000000</td>\n",
       "      <td>49.000000</td>\n",
       "      <td>79.000000</td>\n",
       "    </tr>\n",
       "    <tr>\n",
       "      <th>75%</th>\n",
       "      <td>2.000000</td>\n",
       "      <td>168.447500</td>\n",
       "      <td>2.000000</td>\n",
       "      <td>2.000000</td>\n",
       "      <td>49.000000</td>\n",
       "      <td>99.000000</td>\n",
       "    </tr>\n",
       "    <tr>\n",
       "      <th>max</th>\n",
       "      <td>21.000000</td>\n",
       "      <td>1990.000000</td>\n",
       "      <td>21.000000</td>\n",
       "      <td>33.000000</td>\n",
       "      <td>99.000000</td>\n",
       "      <td>299.000000</td>\n",
       "    </tr>\n",
       "  </tbody>\n",
       "</table>\n",
       "</div>"
      ],
      "text/plain": [
       "           customer       revenue         order         quant     unit_cost  \\\n",
       "count  22200.000000  22200.000000  22200.000000  22200.000000  22200.000000   \n",
       "mean       1.576757    149.833600      1.595676      1.786396     46.121622   \n",
       "std        1.325953    171.650825      1.356642      1.697348     19.129522   \n",
       "min        1.000000     10.000000      1.000000      1.000000      9.000000   \n",
       "25%        1.000000     65.000000      1.000000      1.000000     49.000000   \n",
       "50%        1.000000     99.000000      1.000000      1.000000     49.000000   \n",
       "75%        2.000000    168.447500      2.000000      2.000000     49.000000   \n",
       "max       21.000000   1990.000000     21.000000     33.000000     99.000000   \n",
       "\n",
       "         unit_price  \n",
       "count  22200.000000  \n",
       "mean      84.202838  \n",
       "std       46.035829  \n",
       "min       10.000000  \n",
       "25%       56.000000  \n",
       "50%       79.000000  \n",
       "75%       99.000000  \n",
       "max      299.000000  "
      ]
     },
     "execution_count": 15,
     "metadata": {},
     "output_type": "execute_result"
    }
   ],
   "source": [
    "uniqlo.describe()"
   ]
  },
  {
   "cell_type": "markdown",
   "metadata": {},
   "source": [
    "# Relationships between revenue and time points"
   ]
  },
  {
   "cell_type": "code",
   "execution_count": 16,
   "metadata": {},
   "outputs": [
    {
     "data": {
      "text/plain": [
       "wkd_ind\n",
       "Weekday    1927993.60\n",
       "Weekend    1398312.33\n",
       "Name: revenue, dtype: float64"
      ]
     },
     "execution_count": 16,
     "metadata": {},
     "output_type": "execute_result"
    }
   ],
   "source": [
    "uniqlo.groupby('wkd_ind').revenue.sum()"
   ]
  },
  {
   "cell_type": "code",
   "execution_count": 17,
   "metadata": {},
   "outputs": [
    {
     "data": {
      "text/plain": [
       "3.6263406942844623"
      ]
     },
     "execution_count": 17,
     "metadata": {},
     "output_type": "execute_result"
    }
   ],
   "source": [
    "( 1398312.33)/(1927993.60/5)"
   ]
  },
  {
   "cell_type": "code",
   "execution_count": 18,
   "metadata": {},
   "outputs": [
    {
     "data": {
      "text/plain": [
       "wkd_ind\n",
       "Weekday    20378\n",
       "Weekend    14626\n",
       "Name: customer, dtype: int64"
      ]
     },
     "execution_count": 18,
     "metadata": {},
     "output_type": "execute_result"
    }
   ],
   "source": [
    "uniqlo.groupby('wkd_ind').customer.sum()"
   ]
  },
  {
   "cell_type": "code",
   "execution_count": 19,
   "metadata": {},
   "outputs": [
    {
     "data": {
      "text/plain": [
       "1.794337030130533"
      ]
     },
     "execution_count": 19,
     "metadata": {},
     "output_type": "execute_result"
    }
   ],
   "source": [
    "(14626/2)/(20378/5)"
   ]
  },
  {
   "cell_type": "code",
   "execution_count": 20,
   "metadata": {},
   "outputs": [
    {
     "data": {
      "text/plain": [
       "wkd_ind\n",
       "Weekday    94.611522\n",
       "Weekend    95.604562\n",
       "dtype: float64"
      ]
     },
     "execution_count": 20,
     "metadata": {},
     "output_type": "execute_result"
    }
   ],
   "source": [
    "uniqlo.groupby('wkd_ind').revenue.sum()/uniqlo.groupby('wkd_ind').customer.sum()"
   ]
  },
  {
   "cell_type": "code",
   "execution_count": 21,
   "metadata": {},
   "outputs": [
    {
     "data": {
      "text/plain": [
       "<AxesSubplot:xlabel='wkd_ind', ylabel='revenue'>"
      ]
     },
     "execution_count": 21,
     "metadata": {},
     "output_type": "execute_result"
    },
    {
     "data": {
      "image/png": "[encoded data removed]",
      "text/plain": [
       "<Figure size 432x288 with 1 Axes>"
      ]
     },
     "metadata": {
      "needs_background": "light"
     },
     "output_type": "display_data"
    }
   ],
   "source": [
    "sns.barplot(x='wkd_ind',y='revenue',data=uniqlo)"
   ]
  },
  {
   "cell_type": "code",
   "execution_count": 22,
   "metadata": {},
   "outputs": [
    {
     "data": {
      "text/html": [
       "<div>\n",
       "<style scoped>\n",
       "    .dataframe tbody tr th:only-of-type {\n",
       "        vertical-align: middle;\n",
       "    }\n",
       "\n",
       "    .dataframe tbody tr th {\n",
       "        vertical-align: top;\n",
       "    }\n",
       "\n",
       "    .dataframe thead th {\n",
       "        text-align: right;\n",
       "    }\n",
       "</style>\n",
       "<table border=\"1\" class=\"dataframe\">\n",
       "  <thead>\n",
       "    <tr style=\"text-align: right;\">\n",
       "      <th></th>\n",
       "      <th>count</th>\n",
       "      <th>mean</th>\n",
       "      <th>std</th>\n",
       "      <th>min</th>\n",
       "      <th>25%</th>\n",
       "      <th>50%</th>\n",
       "      <th>75%</th>\n",
       "      <th>max</th>\n",
       "    </tr>\n",
       "    <tr>\n",
       "      <th>wkd_ind</th>\n",
       "      <th></th>\n",
       "      <th></th>\n",
       "      <th></th>\n",
       "      <th></th>\n",
       "      <th></th>\n",
       "      <th></th>\n",
       "      <th></th>\n",
       "      <th></th>\n",
       "    </tr>\n",
       "  </thead>\n",
       "  <tbody>\n",
       "    <tr>\n",
       "      <th>Weekday</th>\n",
       "      <td>12407.0</td>\n",
       "      <td>155.395631</td>\n",
       "      <td>178.598728</td>\n",
       "      <td>10.0</td>\n",
       "      <td>66.0</td>\n",
       "      <td>99.0</td>\n",
       "      <td>189.0</td>\n",
       "      <td>1990.0</td>\n",
       "    </tr>\n",
       "    <tr>\n",
       "      <th>Weekend</th>\n",
       "      <td>9793.0</td>\n",
       "      <td>142.786922</td>\n",
       "      <td>162.157413</td>\n",
       "      <td>10.0</td>\n",
       "      <td>59.0</td>\n",
       "      <td>99.0</td>\n",
       "      <td>158.0</td>\n",
       "      <td>1872.0</td>\n",
       "    </tr>\n",
       "  </tbody>\n",
       "</table>\n",
       "</div>"
      ],
      "text/plain": [
       "           count        mean         std   min   25%   50%    75%     max\n",
       "wkd_ind                                                                  \n",
       "Weekday  12407.0  155.395631  178.598728  10.0  66.0  99.0  189.0  1990.0\n",
       "Weekend   9793.0  142.786922  162.157413  10.0  59.0  99.0  158.0  1872.0"
      ]
     },
     "execution_count": 22,
     "metadata": {},
     "output_type": "execute_result"
    }
   ],
   "source": [
    "uniqlo.groupby('wkd_ind').revenue.describe()"
   ]
  },
  {
   "cell_type": "markdown",
   "metadata": {},
   "source": [
    "There were more weekday customers than weekend customers, and average revenues were almost same. \n",
    "More promotional activities should be carried out on weekends to attract more customers."
   ]
  },
  {
   "cell_type": "markdown",
   "metadata": {},
   "source": [
    "# Product sales"
   ]
  },
  {
   "cell_type": "code",
   "execution_count": 23,
   "metadata": {},
   "outputs": [
    {
     "data": {
      "text/plain": [
       "<AxesSubplot:xlabel='product', ylabel='revenue'>"
      ]
     },
     "execution_count": 23,
     "metadata": {},
     "output_type": "execute_result"
    },
    {
     "data": {
      "image/png": "[encoded data removed]",
      "text/plain": [
       "<Figure size 432x288 with 1 Axes>"
      ]
     },
     "metadata": {
      "needs_background": "light"
     },
     "output_type": "display_data"
    }
   ],
   "source": [
    "plt.rcParams['font.sans-serif']=['Arial Unicode MS']\n",
    "plt.rcParams['axes.unicode_minus']=False\n",
    "sns.barplot(x='product',y='revenue',data=uniqlo)"
   ]
  },
  {
   "cell_type": "code",
   "execution_count": 24,
   "metadata": {},
   "outputs": [
    {
     "data": {
      "text/html": [
       "<div>\n",
       "<style scoped>\n",
       "    .dataframe tbody tr th:only-of-type {\n",
       "        vertical-align: middle;\n",
       "    }\n",
       "\n",
       "    .dataframe tbody tr th {\n",
       "        vertical-align: top;\n",
       "    }\n",
       "\n",
       "    .dataframe thead th {\n",
       "        text-align: right;\n",
       "    }\n",
       "</style>\n",
       "<table border=\"1\" class=\"dataframe\">\n",
       "  <thead>\n",
       "    <tr style=\"text-align: right;\">\n",
       "      <th></th>\n",
       "      <th>count</th>\n",
       "      <th>mean</th>\n",
       "      <th>std</th>\n",
       "      <th>min</th>\n",
       "      <th>25%</th>\n",
       "      <th>50%</th>\n",
       "      <th>75%</th>\n",
       "      <th>max</th>\n",
       "    </tr>\n",
       "    <tr>\n",
       "      <th>product</th>\n",
       "      <th></th>\n",
       "      <th></th>\n",
       "      <th></th>\n",
       "      <th></th>\n",
       "      <th></th>\n",
       "      <th></th>\n",
       "      <th></th>\n",
       "      <th></th>\n",
       "    </tr>\n",
       "  </thead>\n",
       "  <tbody>\n",
       "    <tr>\n",
       "      <th>T恤</th>\n",
       "      <td>10593.0</td>\n",
       "      <td>143.773987</td>\n",
       "      <td>134.573492</td>\n",
       "      <td>13.50</td>\n",
       "      <td>79.0</td>\n",
       "      <td>99.0</td>\n",
       "      <td>158.0</td>\n",
       "      <td>1841.00</td>\n",
       "    </tr>\n",
       "    <tr>\n",
       "      <th>当季新品</th>\n",
       "      <td>2501.0</td>\n",
       "      <td>177.931971</td>\n",
       "      <td>220.967333</td>\n",
       "      <td>19.00</td>\n",
       "      <td>76.0</td>\n",
       "      <td>108.0</td>\n",
       "      <td>195.0</td>\n",
       "      <td>1990.00</td>\n",
       "    </tr>\n",
       "    <tr>\n",
       "      <th>毛衣</th>\n",
       "      <td>805.0</td>\n",
       "      <td>298.951304</td>\n",
       "      <td>239.705271</td>\n",
       "      <td>13.00</td>\n",
       "      <td>149.0</td>\n",
       "      <td>199.0</td>\n",
       "      <td>396.0</td>\n",
       "      <td>1842.00</td>\n",
       "    </tr>\n",
       "    <tr>\n",
       "      <th>牛仔裤</th>\n",
       "      <td>1409.0</td>\n",
       "      <td>173.201192</td>\n",
       "      <td>233.340250</td>\n",
       "      <td>13.33</td>\n",
       "      <td>59.0</td>\n",
       "      <td>79.0</td>\n",
       "      <td>199.0</td>\n",
       "      <td>1890.00</td>\n",
       "    </tr>\n",
       "    <tr>\n",
       "      <th>短裤</th>\n",
       "      <td>1691.0</td>\n",
       "      <td>63.563501</td>\n",
       "      <td>55.631526</td>\n",
       "      <td>10.00</td>\n",
       "      <td>37.0</td>\n",
       "      <td>40.0</td>\n",
       "      <td>77.0</td>\n",
       "      <td>676.00</td>\n",
       "    </tr>\n",
       "    <tr>\n",
       "      <th>袜子</th>\n",
       "      <td>2048.0</td>\n",
       "      <td>62.368828</td>\n",
       "      <td>51.153136</td>\n",
       "      <td>10.00</td>\n",
       "      <td>27.0</td>\n",
       "      <td>52.0</td>\n",
       "      <td>79.0</td>\n",
       "      <td>595.36</td>\n",
       "    </tr>\n",
       "    <tr>\n",
       "      <th>裙子</th>\n",
       "      <td>629.0</td>\n",
       "      <td>218.287409</td>\n",
       "      <td>172.449212</td>\n",
       "      <td>10.00</td>\n",
       "      <td>99.0</td>\n",
       "      <td>197.0</td>\n",
       "      <td>237.0</td>\n",
       "      <td>1442.00</td>\n",
       "    </tr>\n",
       "    <tr>\n",
       "      <th>运动</th>\n",
       "      <td>975.0</td>\n",
       "      <td>121.087528</td>\n",
       "      <td>142.760425</td>\n",
       "      <td>18.00</td>\n",
       "      <td>39.0</td>\n",
       "      <td>78.0</td>\n",
       "      <td>149.0</td>\n",
       "      <td>1257.00</td>\n",
       "    </tr>\n",
       "    <tr>\n",
       "      <th>配件</th>\n",
       "      <td>1549.0</td>\n",
       "      <td>247.271524</td>\n",
       "      <td>254.756086</td>\n",
       "      <td>29.00</td>\n",
       "      <td>99.0</td>\n",
       "      <td>149.0</td>\n",
       "      <td>298.0</td>\n",
       "      <td>1964.64</td>\n",
       "    </tr>\n",
       "  </tbody>\n",
       "</table>\n",
       "</div>"
      ],
      "text/plain": [
       "           count        mean         std    min    25%    50%    75%      max\n",
       "product                                                                      \n",
       "T恤       10593.0  143.773987  134.573492  13.50   79.0   99.0  158.0  1841.00\n",
       "当季新品      2501.0  177.931971  220.967333  19.00   76.0  108.0  195.0  1990.00\n",
       "毛衣         805.0  298.951304  239.705271  13.00  149.0  199.0  396.0  1842.00\n",
       "牛仔裤       1409.0  173.201192  233.340250  13.33   59.0   79.0  199.0  1890.00\n",
       "短裤        1691.0   63.563501   55.631526  10.00   37.0   40.0   77.0   676.00\n",
       "袜子        2048.0   62.368828   51.153136  10.00   27.0   52.0   79.0   595.36\n",
       "裙子         629.0  218.287409  172.449212  10.00   99.0  197.0  237.0  1442.00\n",
       "运动         975.0  121.087528  142.760425  18.00   39.0   78.0  149.0  1257.00\n",
       "配件        1549.0  247.271524  254.756086  29.00   99.0  149.0  298.0  1964.64"
      ]
     },
     "execution_count": 24,
     "metadata": {},
     "output_type": "execute_result"
    }
   ],
   "source": [
    "uniqlo.groupby('product').revenue.describe()"
   ]
  },
  {
   "cell_type": "code",
   "execution_count": 25,
   "metadata": {},
   "outputs": [
    {
     "data": {
      "text/plain": [
       "Index(['毛衣', '配件', '裙子', '当季新品', '牛仔裤', 'T恤', '运动', '短裤', '袜子'], dtype='object', name='product')"
      ]
     },
     "execution_count": 25,
     "metadata": {},
     "output_type": "execute_result"
    }
   ],
   "source": [
    "uniqlo.groupby('product').revenue.mean().sort_values(ascending=False).index"
   ]
  },
  {
   "cell_type": "code",
   "execution_count": 26,
   "metadata": {},
   "outputs": [
    {
     "data": {
      "text/plain": [
       "<AxesSubplot:xlabel='product', ylabel='revenue'>"
      ]
     },
     "execution_count": 26,
     "metadata": {},
     "output_type": "execute_result"
    },
    {
     "data": {
      "image/png": "[encoded data removed]",
      "text/plain": [
       "<Figure size 432x288 with 1 Axes>"
      ]
     },
     "metadata": {
      "needs_background": "light"
     },
     "output_type": "display_data"
    }
   ],
   "source": [
    "sns.barplot(x='product',y='revenue',data=uniqlo, \n",
    "            order=uniqlo.groupby('product').revenue.mean().sort_values(ascending=False).index)"
   ]
  },
  {
   "cell_type": "code",
   "execution_count": 27,
   "metadata": {},
   "outputs": [
    {
     "data": {
      "text/plain": [
       "<AxesSubplot:xlabel='product', ylabel='revenue'>"
      ]
     },
     "execution_count": 27,
     "metadata": {},
     "output_type": "execute_result"
    },
    {
     "data": {
      "image/png": "[encoded data removed]",
      "text/plain": [
       "<Figure size 432x288 with 1 Axes>"
      ]
     },
     "metadata": {
      "needs_background": "light"
     },
     "output_type": "display_data"
    }
   ],
   "source": [
    "sns.barplot(y='revenue',x='product',data=uniqlo,estimator=sum,\n",
    "            order=uniqlo.groupby('product').revenue.sum().sort_values(ascending=False).index)"
   ]
  },
  {
   "cell_type": "markdown",
   "metadata": {},
   "source": [
    "Sweaters have the highest average sales volume and T-shirts have the highest total sales price,\n",
    "probably because T-shirts are cheap and sweaters are expensive"
   ]
  },
  {
   "cell_type": "markdown",
   "metadata": {},
   "source": [
    "# Purchase channels"
   ]
  },
  {
   "cell_type": "code",
   "execution_count": 28,
   "metadata": {},
   "outputs": [
    {
     "data": {
      "text/plain": [
       "<AxesSubplot:xlabel='city', ylabel='revenue'>"
      ]
     },
     "execution_count": 28,
     "metadata": {},
     "output_type": "execute_result"
    },
    {
     "data": {
      "image/png": "[encoded data removed]",
      "text/plain": [
       "<Figure size 432x288 with 1 Axes>"
      ]
     },
     "metadata": {
      "needs_background": "light"
     },
     "output_type": "display_data"
    }
   ],
   "source": [
    "sns.barplot(x='city',y='revenue',hue='channel', data=uniqlo, estimator=sum, order=uniqlo.groupby('city').revenue.sum().sort_values(ascending=False).index)"
   ]
  },
  {
   "cell_type": "code",
   "execution_count": 29,
   "metadata": {},
   "outputs": [
    {
     "data": {
      "text/plain": [
       "<AxesSubplot:xlabel='gender_group', ylabel='revenue'>"
      ]
     },
     "execution_count": 29,
     "metadata": {},
     "output_type": "execute_result"
    },
    {
     "data": {
      "image/png": "[encoded data removed]",
      "text/plain": [
       "<Figure size 432x288 with 1 Axes>"
      ]
     },
     "metadata": {
      "needs_background": "light"
     },
     "output_type": "display_data"
    }
   ],
   "source": [
    "sns.barplot(x='gender_group',y='revenue',hue='channel', data=uniqlo, estimator=sum, order=uniqlo.groupby('gender_group').revenue.sum().sort_values(ascending=False).index)"
   ]
  },
  {
   "cell_type": "code",
   "execution_count": 30,
   "metadata": {},
   "outputs": [
    {
     "data": {
      "text/plain": [
       "<AxesSubplot:xlabel='gender_group', ylabel='revenue'>"
      ]
     },
     "execution_count": 30,
     "metadata": {},
     "output_type": "execute_result"
    },
    {
     "data": {
      "image/png": "[encoded data removed]",
      "text/plain": [
       "<Figure size 432x288 with 1 Axes>"
      ]
     },
     "metadata": {
      "needs_background": "light"
     },
     "output_type": "display_data"
    }
   ],
   "source": [
    "sns.barplot(x='gender_group',y='revenue',hue='channel', data=uniqlo, order=uniqlo.groupby('gender_group').revenue.mean().sort_values(ascending=False).index)"
   ]
  },
  {
   "cell_type": "code",
   "execution_count": 31,
   "metadata": {},
   "outputs": [
    {
     "data": {
      "text/plain": [
       "<AxesSubplot:xlabel='age_group', ylabel='revenue'>"
      ]
     },
     "execution_count": 31,
     "metadata": {},
     "output_type": "execute_result"
    },
    {
     "data": {
      "image/png": "[encoded data removed]",
      "text/plain": [
       "<Figure size 432x288 with 1 Axes>"
      ]
     },
     "metadata": {
      "needs_background": "light"
     },
     "output_type": "display_data"
    }
   ],
   "source": [
    "sns.barplot(x='age_group',y='revenue',hue='channel', data=uniqlo, estimator=sum, order=uniqlo.groupby('age_group').revenue.sum().sort_values(ascending=False).index)"
   ]
  },
  {
   "cell_type": "markdown",
   "metadata": {},
   "source": [
    "In big cities such as Beijing and Shanghai, the online sales data are missing, \n",
    "and the purchase rate of the whole population is higher offline than online. \n",
    "Women are generally more likely to buy online than men. \n",
    "Online and offline purchases are concentrated between 20 and 40 years old"
   ]
  },
  {
   "cell_type": "markdown",
   "metadata": {},
   "source": [
    "# Relationship between sales and product costs"
   ]
  },
  {
   "cell_type": "code",
   "execution_count": 32,
   "metadata": {},
   "outputs": [
    {
     "data": {
      "text/html": [
       "<div>\n",
       "<style scoped>\n",
       "    .dataframe tbody tr th:only-of-type {\n",
       "        vertical-align: middle;\n",
       "    }\n",
       "\n",
       "    .dataframe tbody tr th {\n",
       "        vertical-align: top;\n",
       "    }\n",
       "\n",
       "    .dataframe thead th {\n",
       "        text-align: right;\n",
       "    }\n",
       "</style>\n",
       "<table border=\"1\" class=\"dataframe\">\n",
       "  <thead>\n",
       "    <tr style=\"text-align: right;\">\n",
       "      <th></th>\n",
       "      <th>city</th>\n",
       "      <th>channel</th>\n",
       "      <th>gender_group</th>\n",
       "      <th>age_group</th>\n",
       "      <th>wkd_ind</th>\n",
       "      <th>product</th>\n",
       "      <th>customer</th>\n",
       "      <th>revenue</th>\n",
       "      <th>order</th>\n",
       "      <th>quant</th>\n",
       "      <th>unit_cost</th>\n",
       "      <th>unit_price</th>\n",
       "      <th>revenue_level</th>\n",
       "      <th>unit_revenue</th>\n",
       "      <th>margin</th>\n",
       "    </tr>\n",
       "  </thead>\n",
       "  <tbody>\n",
       "    <tr>\n",
       "      <th>0</th>\n",
       "      <td>深圳</td>\n",
       "      <td>线下</td>\n",
       "      <td>Female</td>\n",
       "      <td>25-29</td>\n",
       "      <td>Weekday</td>\n",
       "      <td>当季新品</td>\n",
       "      <td>4</td>\n",
       "      <td>796.0</td>\n",
       "      <td>4</td>\n",
       "      <td>4</td>\n",
       "      <td>59</td>\n",
       "      <td>199</td>\n",
       "      <td>[500, 1000)</td>\n",
       "      <td>199.000000</td>\n",
       "      <td>140.000000</td>\n",
       "    </tr>\n",
       "    <tr>\n",
       "      <th>1</th>\n",
       "      <td>杭州</td>\n",
       "      <td>线下</td>\n",
       "      <td>Female</td>\n",
       "      <td>25-29</td>\n",
       "      <td>Weekday</td>\n",
       "      <td>运动</td>\n",
       "      <td>1</td>\n",
       "      <td>149.0</td>\n",
       "      <td>1</td>\n",
       "      <td>1</td>\n",
       "      <td>49</td>\n",
       "      <td>149</td>\n",
       "      <td>[100, 500)</td>\n",
       "      <td>149.000000</td>\n",
       "      <td>100.000000</td>\n",
       "    </tr>\n",
       "    <tr>\n",
       "      <th>2</th>\n",
       "      <td>深圳</td>\n",
       "      <td>线下</td>\n",
       "      <td>Male</td>\n",
       "      <td>&gt;=60</td>\n",
       "      <td>Weekday</td>\n",
       "      <td>T恤</td>\n",
       "      <td>2</td>\n",
       "      <td>178.0</td>\n",
       "      <td>2</td>\n",
       "      <td>2</td>\n",
       "      <td>49</td>\n",
       "      <td>89</td>\n",
       "      <td>[100, 500)</td>\n",
       "      <td>89.000000</td>\n",
       "      <td>40.000000</td>\n",
       "    </tr>\n",
       "    <tr>\n",
       "      <th>3</th>\n",
       "      <td>深圳</td>\n",
       "      <td>线下</td>\n",
       "      <td>Female</td>\n",
       "      <td>25-29</td>\n",
       "      <td>Weekday</td>\n",
       "      <td>T恤</td>\n",
       "      <td>1</td>\n",
       "      <td>59.0</td>\n",
       "      <td>1</td>\n",
       "      <td>1</td>\n",
       "      <td>49</td>\n",
       "      <td>59</td>\n",
       "      <td>[0, 100)</td>\n",
       "      <td>59.000000</td>\n",
       "      <td>10.000000</td>\n",
       "    </tr>\n",
       "    <tr>\n",
       "      <th>4</th>\n",
       "      <td>深圳</td>\n",
       "      <td>线下</td>\n",
       "      <td>Male</td>\n",
       "      <td>20-24</td>\n",
       "      <td>Weekend</td>\n",
       "      <td>袜子</td>\n",
       "      <td>2</td>\n",
       "      <td>65.0</td>\n",
       "      <td>2</td>\n",
       "      <td>3</td>\n",
       "      <td>9</td>\n",
       "      <td>22</td>\n",
       "      <td>[0, 100)</td>\n",
       "      <td>21.666667</td>\n",
       "      <td>12.666667</td>\n",
       "    </tr>\n",
       "  </tbody>\n",
       "</table>\n",
       "</div>"
      ],
      "text/plain": [
       "  city channel gender_group age_group  wkd_ind product  customer  revenue  \\\n",
       "0   深圳      线下       Female     25-29  Weekday    当季新品         4    796.0   \n",
       "1   杭州      线下       Female     25-29  Weekday      运动         1    149.0   \n",
       "2   深圳      线下         Male      >=60  Weekday      T恤         2    178.0   \n",
       "3   深圳      线下       Female     25-29  Weekday      T恤         1     59.0   \n",
       "4   深圳      线下         Male     20-24  Weekend      袜子         2     65.0   \n",
       "\n",
       "   order  quant  unit_cost  unit_price revenue_level  unit_revenue      margin  \n",
       "0      4      4         59         199   [500, 1000)    199.000000  140.000000  \n",
       "1      1      1         49         149    [100, 500)    149.000000  100.000000  \n",
       "2      2      2         49          89    [100, 500)     89.000000   40.000000  \n",
       "3      1      1         49          59      [0, 100)     59.000000   10.000000  \n",
       "4      2      3          9          22      [0, 100)     21.666667   12.666667  "
      ]
     },
     "execution_count": 32,
     "metadata": {},
     "output_type": "execute_result"
    }
   ],
   "source": [
    "uniqlo['unit_revenue']= uniqlo.revenue/uniqlo.quant\n",
    "uniqlo['margin']=uniqlo.unit_revenue-uniqlo.unit_cost\n",
    "uniqlo.head()"
   ]
  },
  {
   "cell_type": "code",
   "execution_count": 33,
   "metadata": {},
   "outputs": [
    {
     "data": {
      "text/plain": [
       "<AxesSubplot:xlabel='product', ylabel='margin'>"
      ]
     },
     "execution_count": 33,
     "metadata": {},
     "output_type": "execute_result"
    },
    {
     "data": {
      "image/png": "[encoded data removed]",
      "text/plain": [
       "<Figure size 432x288 with 1 Axes>"
      ]
     },
     "metadata": {
      "needs_background": "light"
     },
     "output_type": "display_data"
    }
   ],
   "source": [
    "sns.barplot(y='margin',x='product',data=uniqlo,order=uniqlo.groupby('product').margin.mean().sort_values(ascending=False).index)"
   ]
  },
  {
   "cell_type": "code",
   "execution_count": 34,
   "metadata": {},
   "outputs": [
    {
     "data": {
      "text/html": [
       "<div>\n",
       "<style scoped>\n",
       "    .dataframe tbody tr th:only-of-type {\n",
       "        vertical-align: middle;\n",
       "    }\n",
       "\n",
       "    .dataframe tbody tr th {\n",
       "        vertical-align: top;\n",
       "    }\n",
       "\n",
       "    .dataframe thead th {\n",
       "        text-align: right;\n",
       "    }\n",
       "</style>\n",
       "<table border=\"1\" class=\"dataframe\">\n",
       "  <thead>\n",
       "    <tr style=\"text-align: right;\">\n",
       "      <th></th>\n",
       "      <th>margin</th>\n",
       "      <th>unit_revenue</th>\n",
       "      <th>unit_cost</th>\n",
       "    </tr>\n",
       "  </thead>\n",
       "  <tbody>\n",
       "    <tr>\n",
       "      <th>margin</th>\n",
       "      <td>1.000000</td>\n",
       "      <td>0.910633</td>\n",
       "      <td>0.104207</td>\n",
       "    </tr>\n",
       "    <tr>\n",
       "      <th>unit_revenue</th>\n",
       "      <td>0.910633</td>\n",
       "      <td>1.000000</td>\n",
       "      <td>0.505862</td>\n",
       "    </tr>\n",
       "    <tr>\n",
       "      <th>unit_cost</th>\n",
       "      <td>0.104207</td>\n",
       "      <td>0.505862</td>\n",
       "      <td>1.000000</td>\n",
       "    </tr>\n",
       "  </tbody>\n",
       "</table>\n",
       "</div>"
      ],
      "text/plain": [
       "                margin  unit_revenue  unit_cost\n",
       "margin        1.000000      0.910633   0.104207\n",
       "unit_revenue  0.910633      1.000000   0.505862\n",
       "unit_cost     0.104207      0.505862   1.000000"
      ]
     },
     "execution_count": 34,
     "metadata": {},
     "output_type": "execute_result"
    }
   ],
   "source": [
    "q=['margin','unit_revenue','unit_cost']\n",
    "uniqlo[q].corr()"
   ]
  },
  {
   "cell_type": "code",
   "execution_count": 35,
   "metadata": {},
   "outputs": [
    {
     "data": {
      "text/plain": [
       "<AxesSubplot:>"
      ]
     },
     "execution_count": 35,
     "metadata": {},
     "output_type": "execute_result"
    },
    {
     "data": {
      "image/png": "[encoded data removed]",
      "text/plain": [
       "<Figure size 432x288 with 2 Axes>"
      ]
     },
     "metadata": {
      "needs_background": "light"
     },
     "output_type": "display_data"
    }
   ],
   "source": [
    "sns.heatmap(uniqlo[q].corr())"
   ]
  },
  {
   "cell_type": "code",
   "execution_count": 36,
   "metadata": {},
   "outputs": [
    {
     "data": {
      "text/html": [
       "<div>\n",
       "<style scoped>\n",
       "    .dataframe tbody tr th:only-of-type {\n",
       "        vertical-align: middle;\n",
       "    }\n",
       "\n",
       "    .dataframe tbody tr th {\n",
       "        vertical-align: top;\n",
       "    }\n",
       "\n",
       "    .dataframe thead th {\n",
       "        text-align: right;\n",
       "    }\n",
       "</style>\n",
       "<table border=\"1\" class=\"dataframe\">\n",
       "  <thead>\n",
       "    <tr style=\"text-align: right;\">\n",
       "      <th></th>\n",
       "      <th>count</th>\n",
       "      <th>mean</th>\n",
       "      <th>std</th>\n",
       "      <th>min</th>\n",
       "      <th>25%</th>\n",
       "      <th>50%</th>\n",
       "      <th>75%</th>\n",
       "      <th>max</th>\n",
       "    </tr>\n",
       "    <tr>\n",
       "      <th>margin_level</th>\n",
       "      <th></th>\n",
       "      <th></th>\n",
       "      <th></th>\n",
       "      <th></th>\n",
       "      <th></th>\n",
       "      <th></th>\n",
       "      <th></th>\n",
       "      <th></th>\n",
       "    </tr>\n",
       "  </thead>\n",
       "  <tbody>\n",
       "    <tr>\n",
       "      <th>[-100, -25)</th>\n",
       "      <td>453.0</td>\n",
       "      <td>-35.743363</td>\n",
       "      <td>10.082787</td>\n",
       "      <td>-86.0</td>\n",
       "      <td>-40.0</td>\n",
       "      <td>-30.0</td>\n",
       "      <td>-30.0</td>\n",
       "      <td>-25.250000</td>\n",
       "    </tr>\n",
       "    <tr>\n",
       "      <th>[-25, 0)</th>\n",
       "      <td>2333.0</td>\n",
       "      <td>-9.918304</td>\n",
       "      <td>4.793668</td>\n",
       "      <td>-25.0</td>\n",
       "      <td>-10.0</td>\n",
       "      <td>-10.0</td>\n",
       "      <td>-10.0</td>\n",
       "      <td>-0.165000</td>\n",
       "    </tr>\n",
       "    <tr>\n",
       "      <th>[0, 25)</th>\n",
       "      <td>6157.0</td>\n",
       "      <td>14.097948</td>\n",
       "      <td>5.670898</td>\n",
       "      <td>0.0</td>\n",
       "      <td>10.0</td>\n",
       "      <td>14.0</td>\n",
       "      <td>20.0</td>\n",
       "      <td>24.728889</td>\n",
       "    </tr>\n",
       "    <tr>\n",
       "      <th>[25, 50)</th>\n",
       "      <td>4859.0</td>\n",
       "      <td>32.389526</td>\n",
       "      <td>5.342885</td>\n",
       "      <td>25.0</td>\n",
       "      <td>30.0</td>\n",
       "      <td>30.0</td>\n",
       "      <td>30.0</td>\n",
       "      <td>49.928571</td>\n",
       "    </tr>\n",
       "    <tr>\n",
       "      <th>[50, 100)</th>\n",
       "      <td>6270.0</td>\n",
       "      <td>57.784182</td>\n",
       "      <td>13.000221</td>\n",
       "      <td>50.0</td>\n",
       "      <td>50.0</td>\n",
       "      <td>50.0</td>\n",
       "      <td>70.0</td>\n",
       "      <td>99.454545</td>\n",
       "    </tr>\n",
       "    <tr>\n",
       "      <th>[100, 150)</th>\n",
       "      <td>1658.0</td>\n",
       "      <td>119.761014</td>\n",
       "      <td>15.997128</td>\n",
       "      <td>100.0</td>\n",
       "      <td>100.0</td>\n",
       "      <td>120.0</td>\n",
       "      <td>136.0</td>\n",
       "      <td>149.627143</td>\n",
       "    </tr>\n",
       "    <tr>\n",
       "      <th>[150, 200)</th>\n",
       "      <td>399.0</td>\n",
       "      <td>158.354367</td>\n",
       "      <td>10.495074</td>\n",
       "      <td>150.0</td>\n",
       "      <td>150.0</td>\n",
       "      <td>150.0</td>\n",
       "      <td>170.0</td>\n",
       "      <td>195.000000</td>\n",
       "    </tr>\n",
       "  </tbody>\n",
       "</table>\n",
       "</div>"
      ],
      "text/plain": [
       "               count        mean        std    min    25%    50%    75%  \\\n",
       "margin_level                                                              \n",
       "[-100, -25)    453.0  -35.743363  10.082787  -86.0  -40.0  -30.0  -30.0   \n",
       "[-25, 0)      2333.0   -9.918304   4.793668  -25.0  -10.0  -10.0  -10.0   \n",
       "[0, 25)       6157.0   14.097948   5.670898    0.0   10.0   14.0   20.0   \n",
       "[25, 50)      4859.0   32.389526   5.342885   25.0   30.0   30.0   30.0   \n",
       "[50, 100)     6270.0   57.784182  13.000221   50.0   50.0   50.0   70.0   \n",
       "[100, 150)    1658.0  119.761014  15.997128  100.0  100.0  120.0  136.0   \n",
       "[150, 200)     399.0  158.354367  10.495074  150.0  150.0  150.0  170.0   \n",
       "\n",
       "                     max  \n",
       "margin_level              \n",
       "[-100, -25)   -25.250000  \n",
       "[-25, 0)       -0.165000  \n",
       "[0, 25)        24.728889  \n",
       "[25, 50)       49.928571  \n",
       "[50, 100)      99.454545  \n",
       "[100, 150)    149.627143  \n",
       "[150, 200)    195.000000  "
      ]
     },
     "execution_count": 36,
     "metadata": {},
     "output_type": "execute_result"
    }
   ],
   "source": [
    "bins = [-100,-25,0,25,50,100,150,200]\n",
    "uniqlo['margin_level']=pd.cut(uniqlo.margin, bins, right=False)\n",
    "uniqlo.groupby('margin_level').margin.describe()"
   ]
  },
  {
   "cell_type": "code",
   "execution_count": 37,
   "metadata": {
    "scrolled": true
   },
   "outputs": [
    {
     "data": {
      "text/plain": [
       "<AxesSubplot:xlabel='product', ylabel='quant'>"
      ]
     },
     "execution_count": 37,
     "metadata": {},
     "output_type": "execute_result"
    },
    {
     "data": {
      "image/png": "[encoded data removed]",
      "text/plain": [
       "<Figure size 1440x720 with 1 Axes>"
      ]
     },
     "metadata": {
      "needs_background": "light"
     },
     "output_type": "display_data"
    }
   ],
   "source": [
    "fig=plt.figure(figsize=(20,10))\n",
    "sns.barplot(x='product',y='quant',hue='margin_level',estimator=sum,data=uniqlo)"
   ]
  },
  {
   "cell_type": "markdown",
   "metadata": {},
   "source": [
    "Some jeans are showing negative margin. Tshirts are often sold in large quantities but with a small profit"
   ]
  }
 ],
 "metadata": {
  "kernelspec": {
   "display_name": "Python 3",
   "language": "python",
   "name": "python3"
  },
  "language_info": {
   "codemirror_mode": {
    "name": "ipython",
    "version": 3
   },
   "file_extension": ".py",
   "mimetype": "text/x-python",
   "name": "python",
   "nbconvert_exporter": "python",
   "pygments_lexer": "ipython3",
   "version": "3.8.5"
  }
 },
 "nbformat": 4,
 "nbformat_minor": 4
}
